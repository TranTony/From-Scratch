{
 "cells": [
  {
   "cell_type": "code",
   "execution_count": 2,
   "metadata": {},
   "outputs": [],
   "source": [
    "# KNN algorithms:\n",
    "# 1. Choose K\n",
    "# 2. Calculate the distances between the test data to the each training data\n",
    "# 3. Ranking the distances increasingly\n",
    "# 4. Classify the test by the prior number of labels\n",
    "\n",
    "\n",
    "import pandas as pd\n",
    "import numpy as np\n",
    "import operator\n",
    "\n",
    "K = 5\n",
    "\n",
    "# Importing data \n",
    "# Data for iris is here: https://archive.ics.uci.edu/ml/machine-learning-databases/iris/\n",
    "data = pd.read_csv(\"../Data/iris.csv\")\n",
    "data.head()"
   ]
  },
  {
   "cell_type": "code",
   "execution_count": null,
   "metadata": {},
   "outputs": [],
   "source": [
    "# Calculate Euclide distance\n",
    "def calculate_euclide_distance(data1, data2):\n",
    "    print(\"data1: \", data1)\n",
    "    print(\"data2: \", data2)\n",
    "    ed = np.sum(np.square(data1-data2))\n",
    "    return np.sqrt(ed)\n",
    "\n",
    "def KNN(data, test):\n",
    "    len_data = data.shape[0]\n",
    "    dist = {}\n",
    "    for i in range(len_data):\n",
    "        ed = calculate_euclide_distance(np.array(data.iloc[i,0:4]), test)\n",
    "        ed_e =  {ed:data.iloc[i][4]}\n",
    "        dist.update(ed_e)\n",
    "\n",
    "    sorted_x = sorted(dist.items(),  key=operator.itemgetter(0))\n",
    "    K_element = []\n",
    "    \n",
    "    for x in range(K):\n",
    "        K_element.append(sorted_x[x])\n",
    "\n",
    "    print(K_element[0][1])"
   ]
  },
  {
   "cell_type": "code",
   "execution_count": null,
   "metadata": {},
   "outputs": [],
   "source": [
    "test = np.array([7.2, 3.6, 5.1, 2.5])\n",
    "KNN(data, test)"
   ]
  }
 ],
 "metadata": {
  "kernelspec": {
   "display_name": "Python 3",
   "language": "python",
   "name": "python3"
  },
  "language_info": {
   "codemirror_mode": {
    "name": "ipython",
    "version": 3
   },
   "file_extension": ".py",
   "mimetype": "text/x-python",
   "name": "python",
   "nbconvert_exporter": "python",
   "pygments_lexer": "ipython3",
   "version": "3.6.9"
  }
 },
 "nbformat": 4,
 "nbformat_minor": 2
}
